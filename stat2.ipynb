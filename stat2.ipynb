{
 "cells": [
  {
   "cell_type": "markdown",
   "metadata": {},
   "source": [
    "Смоделировать игру против лотерейного автомата типа \"777\". Игрок платит 1 руб., после чего выпадает\n",
    "случайное целое число, равномерно распределенное от 0 до 999. При некоторых значениях числа игрок получает выигрыш.\n",
    "\n",
    "* 777: 200 руб.\n",
    "* 999: 100 руб.\n",
    "* 555: 50 руб.\n",
    "* 333: 15 руб.\n",
    "* 111: 10 руб.\n",
    "* *77: 5 руб.\n",
    "* **7: 3 руб.\n",
    "* *00: 2 руб.\n",
    "* **0: 1 руб.\n",
    "\n",
    "*– любая цифра\n",
    "\n",
    "Выгодна ли игра игроку?\n",
    "Сколько в среднем приобретает или теряет игрок за одну игру?"
   ]
  },
  {
   "cell_type": "code",
   "execution_count": 17,
   "metadata": {},
   "outputs": [],
   "source": [
    "import numpy as np\n",
    "import re"
   ]
  },
  {
   "cell_type": "markdown",
   "metadata": {},
   "source": [
    "*Отвечая на вопрос о выгодности игры игроку можно смело обратиться к правилу \"Казино всегда в выигрыше\". Даже несмотря на то, что в заданных условиях предполагается честность результатов, в долгой перспективе организатор игры останется в плюсе, на это указывает моделирование игры с крупными выборками: при 10 миллионах попыток выигрыш игрока колеблется в районе 75-76 процентов от затраченных на игру средств.*"
   ]
  },
  {
   "cell_type": "code",
   "execution_count": 33,
   "metadata": {},
   "outputs": [
    {
     "name": "stdout",
     "output_type": "stream",
     "text": [
      "попытка 1: вероятность выигрыша 0.7620614, выгода -0.2379386 руб с 1 руб\n"
     ]
    }
   ],
   "source": [
    "trials = 10000000\n",
    "wins = 0\n",
    "for i in range(trials):\n",
    "    random_score = np.random.randint(0, 1000)\n",
    "    if random_score == 777:\n",
    "        wins += 200\n",
    "    elif random_score == 999:\n",
    "        wins += 100\n",
    "    elif random_score == 555:\n",
    "        wins += 50\n",
    "    elif random_score == 333:\n",
    "        wins += 15\n",
    "    elif random_score == 111:\n",
    "        wins += 10\n",
    "    elif re.search(r\"\\d77\",str(random_score)):\n",
    "        wins += 5\n",
    "    elif re.search(r\"\\d\\d7\",str(random_score)):\n",
    "        wins += 3\n",
    "    elif re.search(r\"\\d00\",str(random_score)):\n",
    "        wins += 2 \n",
    "    elif re.search(r\"\\d\\d0\",str(random_score)):\n",
    "        wins += 1\n",
    "\n",
    "win_probab = wins/trials\n",
    "profit = (wins - trials) / trials\n",
    "print(f'попытка 1: вероятность выигрыша {win_probab}, выгода {profit} руб с 1 руб')\n"
   ]
  },
  {
   "cell_type": "code",
   "execution_count": 34,
   "metadata": {},
   "outputs": [
    {
     "name": "stdout",
     "output_type": "stream",
     "text": [
      "попытка 2: вероятность выигрыша 0.7546553, выгода -0.2453447 руб с 1 руб\n"
     ]
    }
   ],
   "source": [
    "trials = 10000000\n",
    "wins = 0\n",
    "for i in range(trials):\n",
    "    random_score = np.random.randint(0, 1000)\n",
    "    if random_score == 777:\n",
    "        wins += 200\n",
    "    elif random_score == 999:\n",
    "        wins += 100\n",
    "    elif random_score == 555:\n",
    "        wins += 50\n",
    "    elif random_score == 333:\n",
    "        wins += 15\n",
    "    elif random_score == 111:\n",
    "        wins += 10\n",
    "    elif re.search(r\"\\d77\",str(random_score)):\n",
    "        wins += 5\n",
    "    elif re.search(r\"\\d\\d7\",str(random_score)):\n",
    "        wins += 3\n",
    "    elif re.search(r\"\\d00\",str(random_score)):\n",
    "        wins += 2 \n",
    "    elif re.search(r\"\\d\\d0\",str(random_score)):\n",
    "        wins += 1\n",
    "\n",
    "win_probab = wins/trials\n",
    "profit = (wins - trials) / trials\n",
    "print(f'попытка 2: вероятность выигрыша {win_probab}, выгода {profit} руб с 1 руб')\n"
   ]
  },
  {
   "cell_type": "code",
   "execution_count": 35,
   "metadata": {},
   "outputs": [
    {
     "name": "stdout",
     "output_type": "stream",
     "text": [
      "попытка 3: вероятность выигрыша 0.7557057, выгода -0.2442943 руб с 1 руб\n"
     ]
    }
   ],
   "source": [
    "trials = 10000000\n",
    "wins = 0\n",
    "for i in range(trials):\n",
    "    random_score = np.random.randint(0, 1000)\n",
    "    if random_score == 777:\n",
    "        wins += 200\n",
    "    elif random_score == 999:\n",
    "        wins += 100\n",
    "    elif random_score == 555:\n",
    "        wins += 50\n",
    "    elif random_score == 333:\n",
    "        wins += 15\n",
    "    elif random_score == 111:\n",
    "        wins += 10\n",
    "    elif re.search(r\"\\d77\",str(random_score)):\n",
    "        wins += 5\n",
    "    elif re.search(r\"\\d\\d7\",str(random_score)):\n",
    "        wins += 3\n",
    "    elif re.search(r\"\\d00\",str(random_score)):\n",
    "        wins += 2 \n",
    "    elif re.search(r\"\\d\\d0\",str(random_score)):\n",
    "        wins += 1\n",
    "\n",
    "win_probab = wins/trials\n",
    "profit = (wins - trials) / trials\n",
    "print(f'попытка 3: вероятность выигрыша {win_probab}, выгода {profit} руб с 1 руб')\n"
   ]
  },
  {
   "cell_type": "markdown",
   "metadata": {},
   "source": [
    "*Тем не менее, такая игра (в условиях честности казино разумеется) во многом завязана на удаче игрока. Поэтому отдельно взятый игрок, сыгравший небольшое количество игр, при должном везении вполне может уйти домой с весьма существенным выигрышем:*"
   ]
  },
  {
   "cell_type": "code",
   "execution_count": 31,
   "metadata": {},
   "outputs": [
    {
     "name": "stdout",
     "output_type": "stream",
     "text": [
      "вероятность выигрыша 2.22, выгода 1.22 руб с 1 руб\n"
     ]
    }
   ],
   "source": [
    "trials = 100\n",
    "wins = 0\n",
    "for i in range(trials):\n",
    "    random_score = np.random.randint(0, 1000)\n",
    "    if random_score == 777:\n",
    "        wins += 200\n",
    "    elif random_score == 999:\n",
    "        wins += 100\n",
    "    elif random_score == 555:\n",
    "        wins += 50\n",
    "    elif random_score == 333:\n",
    "        wins += 15\n",
    "    elif random_score == 111:\n",
    "        wins += 10\n",
    "    elif re.search(r\"\\d77\",str(random_score)):\n",
    "        wins += 5\n",
    "    elif re.search(r\"\\d\\d7\",str(random_score)):\n",
    "        wins += 3\n",
    "    elif re.search(r\"\\d00\",str(random_score)):\n",
    "        wins += 2 \n",
    "    elif re.search(r\"\\d\\d0\",str(random_score)):\n",
    "        wins += 1\n",
    "\n",
    "win_probab = wins/trials\n",
    "profit = (wins - trials) / trials\n",
    "print(f'вероятность выигрыша {win_probab}, выгода {profit} руб с 1 руб')\n"
   ]
  },
  {
   "cell_type": "markdown",
   "metadata": {},
   "source": [
    "*Но это ведь казино, кому там везёт? :)*"
   ]
  },
  {
   "cell_type": "code",
   "execution_count": 38,
   "metadata": {},
   "outputs": [
    {
     "name": "stdout",
     "output_type": "stream",
     "text": [
      "вероятность выигрыша 0.27, выгода -0.73 руб с 1 руб\n"
     ]
    }
   ],
   "source": [
    "trials = 100\n",
    "wins = 0\n",
    "for i in range(trials):\n",
    "    random_score = np.random.randint(0, 1000)\n",
    "    if random_score == 777:\n",
    "        wins += 200\n",
    "    elif random_score == 999:\n",
    "        wins += 100\n",
    "    elif random_score == 555:\n",
    "        wins += 50\n",
    "    elif random_score == 333:\n",
    "        wins += 15\n",
    "    elif random_score == 111:\n",
    "        wins += 10\n",
    "    elif re.search(r\"\\d77\",str(random_score)):\n",
    "        wins += 5\n",
    "    elif re.search(r\"\\d\\d7\",str(random_score)):\n",
    "        wins += 3\n",
    "    elif re.search(r\"\\d00\",str(random_score)):\n",
    "        wins += 2 \n",
    "    elif re.search(r\"\\d\\d0\",str(random_score)):\n",
    "        wins += 1\n",
    "\n",
    "win_probab = wins/trials\n",
    "profit = (wins - trials) / trials\n",
    "print(f'вероятность выигрыша {win_probab}, выгода {profit} руб с 1 руб')\n"
   ]
  }
 ],
 "metadata": {
  "kernelspec": {
   "display_name": "Python 3",
   "language": "python",
   "name": "python3"
  },
  "language_info": {
   "codemirror_mode": {
    "name": "ipython",
    "version": 3
   },
   "file_extension": ".py",
   "mimetype": "text/x-python",
   "name": "python",
   "nbconvert_exporter": "python",
   "pygments_lexer": "ipython3",
   "version": "3.7.6"
  }
 },
 "nbformat": 4,
 "nbformat_minor": 4
}
